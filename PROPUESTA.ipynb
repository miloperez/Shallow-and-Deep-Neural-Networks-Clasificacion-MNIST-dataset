{
 "cells": [
  {
   "cell_type": "code",
   "execution_count": null,
   "outputs": [],
   "source": [
    "import requests, pickle\n",
    "from tensorflow import keras\n",
    "from keras.models import Sequential\n",
    "from keras.layers import Dense\n",
    "from keras import Input\n",
    "import tensorflow.keras.optimizers as optimizers\n",
    "from sklearn.preprocessing import MinMaxScaler\n",
    "from matplotlib import pyplot\n",
    "from keras.src.layers import Dropout\n",
    "from keras.src.regularizers import regularizers"
   ],
   "metadata": {
    "collapsed": false
   },
   "id": "163f5ecf9f313f9"
  },
  {
   "cell_type": "markdown",
   "source": [
    "### Carga de datos"
   ],
   "metadata": {
    "collapsed": false
   },
   "id": "3f8540b7cf1c623e"
  },
  {
   "cell_type": "code",
   "execution_count": null,
   "outputs": [],
   "source": [
    "url = 'https://github.com/greydanus/mnist1d/raw/master/mnist1d_data.pkl'\n",
    "r = requests.get(url, allow_redirects=True)\n",
    "open('./mnist1d_data.pkl', 'wb').write(r.content)\n",
    "\n",
    "with open('./mnist1d_data.pkl', 'rb') as handle:\n",
    "    data = pickle.load(handle)\n",
    "    \n",
    "data.keys()"
   ],
   "metadata": {
    "collapsed": false
   },
   "id": "f668e8ea331544e2"
  },
  {
   "cell_type": "markdown",
   "source": [
    "### Desempaquetado y normalización de los datos\n",
    "MinMaxScaler de sklearn y OneHot encoder de autoría propia"
   ],
   "metadata": {
    "collapsed": false
   },
   "id": "32a260a2b3cafb0c"
  },
  {
   "cell_type": "code",
   "execution_count": null,
   "outputs": [],
   "source": [
    "import mios\n",
    "x = data[\"x\"]\n",
    "x_test = data[\"x_test\"]\n",
    "y = data[\"y\"]\n",
    "y_test = data[\"y_test\"]\n",
    "y = mios.OneHot(y)\n",
    "y_test = mios.OneHot(y_test)\n",
    "\n",
    "scaler = MinMaxScaler()\n",
    "scaler.fit(x)\n",
    "scaler.transform(x)\n",
    "scaler.transform(x_test)\n",
    "print()"
   ],
   "metadata": {
    "collapsed": false
   },
   "id": "48596a1ccd236bfc"
  },
  {
   "cell_type": "markdown",
   "source": [
    "### Declaración de la red neuronal"
   ],
   "metadata": {
    "collapsed": false
   },
   "id": "6cade6712f944cdf"
  },
  {
   "cell_type": "code",
   "execution_count": null,
   "outputs": [],
   "source": [
    "PROP = Sequential()\n",
    "PROP.add(Input(shape=(40,)))\n",
    "PROP.add(Dropout(0.2, input_dim=40))\n",
    "PROP.add(Dense(40, activation='relu', activity_regularizer=regularizers.L2(0.00001)))\n",
    "PROP.add(Dense(40, activation='relu', activity_regularizer=regularizers.L2(0.00001)))\n",
    "PROP.add(Dense(40, activation='relu', activity_regularizer=regularizers.L2(0.00001)))\n",
    "PROP.add(Dense(10, activation='softmax'))\n",
    "\n",
    "callbacks = [keras.callbacks.EarlyStopping(patience=200)]\n",
    "\n",
    "# opti = optimizers.Adam(0.001)\n",
    "opti = optimizers.SGD(learning_rate=0.05, momentum=0.01)\n",
    "\n",
    "PROP.compile(loss=keras.losses.CategoricalCrossentropy(),\n",
    "              optimizer=opti,\n",
    "              metrics=['accuracy'])\n",
    "\n",
    "# PROP.summary()\n",
    "\n",
    "H = PROP.fit(x, y, epochs=1000, validation_data=[x_test, y_test], callbacks=callbacks)"
   ],
   "metadata": {
    "collapsed": false
   },
   "id": "44cf76eabfe5282"
  },
  {
   "cell_type": "markdown",
   "source": [
    "### Graficación de comportamiento"
   ],
   "metadata": {
    "collapsed": false
   },
   "id": "4c8d74ffcced3d0b"
  },
  {
   "cell_type": "code",
   "execution_count": null,
   "outputs": [],
   "source": [
    "pyplot.title(\"Exactitud\")\n",
    "pyplot.plot(H.history['accuracy'], label='snn_tr')\n",
    "pyplot.plot(H.history['val_accuracy'], label='snn_va')\n",
    "pyplot.ylim(-0.1,1.1)\n",
    "pyplot.legend()\n",
    "pyplot.show()\n",
    "\n",
    "pyplot.title(\"Pérdida\")\n",
    "pyplot.plot(H.history['loss'], label='snn_tr')\n",
    "pyplot.plot(H.history['val_loss'], label='snn_va')\n",
    "pyplot.ylim(-0.1,10.1)\n",
    "pyplot.legend()\n",
    "pyplot.show()"
   ],
   "metadata": {
    "collapsed": false
   },
   "id": "d5dca58b2c2879d4"
  },
  {
   "cell_type": "code",
   "execution_count": null,
   "outputs": [],
   "source": [
    "PROP.summary()"
   ],
   "metadata": {
    "collapsed": false
   },
   "id": "64525983f35ef65a"
  }
 ],
 "metadata": {
  "kernelspec": {
   "display_name": "Python 3",
   "language": "python",
   "name": "python3"
  },
  "language_info": {
   "codemirror_mode": {
    "name": "ipython",
    "version": 2
   },
   "file_extension": ".py",
   "mimetype": "text/x-python",
   "name": "python",
   "nbconvert_exporter": "python",
   "pygments_lexer": "ipython2",
   "version": "2.7.6"
  }
 },
 "nbformat": 4,
 "nbformat_minor": 5
}
